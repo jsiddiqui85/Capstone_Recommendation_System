{
 "cells": [
  {
   "cell_type": "markdown",
   "metadata": {},
   "source": [
    "# Spotify Recommendation System"
   ]
  },
  {
   "cell_type": "markdown",
   "metadata": {},
   "source": []
  },
  {
   "cell_type": "markdown",
   "metadata": {},
   "source": [
    "### Overview"
   ]
  },
  {
   "cell_type": "markdown",
   "metadata": {},
   "source": []
  },
  {
   "cell_type": "markdown",
   "metadata": {},
   "source": [
    "### Business/Domain Understanding"
   ]
  },
  {
   "cell_type": "markdown",
   "metadata": {},
   "source": []
  },
  {
   "cell_type": "markdown",
   "metadata": {},
   "source": [
    "### Data Understanding"
   ]
  },
  {
   "cell_type": "markdown",
   "metadata": {},
   "source": [
    "This dataset was found on Kaggle - https://www.kaggle.com/datasets/rodolfofigueroa/spotify-12m-songs"
   ]
  },
  {
   "cell_type": "markdown",
   "metadata": {},
   "source": [
    "### Imports"
   ]
  },
  {
   "cell_type": "markdown",
   "metadata": {},
   "source": [
    "A little explanation of which imports I used."
   ]
  },
  {
   "cell_type": "code",
   "execution_count": 1,
   "metadata": {
    "ExecuteTime": {
     "end_time": "2022-05-16T16:29:40.357406Z",
     "start_time": "2022-05-16T16:29:39.916560Z"
    }
   },
   "outputs": [],
   "source": [
    "import pandas as pd"
   ]
  },
  {
   "cell_type": "markdown",
   "metadata": {},
   "source": [
    "### Read In CSV File"
   ]
  },
  {
   "cell_type": "code",
   "execution_count": 9,
   "metadata": {
    "ExecuteTime": {
     "end_time": "2022-05-16T19:56:01.757099Z",
     "start_time": "2022-05-16T19:55:55.013111Z"
    }
   },
   "outputs": [],
   "source": [
    "spotify_df = pd.read_csv('../Data/tracks_features.csv')"
   ]
  },
  {
   "cell_type": "markdown",
   "metadata": {},
   "source": [
    "#### Check out the DataFrame"
   ]
  },
  {
   "cell_type": "code",
   "execution_count": 10,
   "metadata": {
    "ExecuteTime": {
     "end_time": "2022-05-16T19:56:06.588512Z",
     "start_time": "2022-05-16T19:56:05.856992Z"
    }
   },
   "outputs": [
    {
     "data": {
      "text/html": [
       "<div>\n",
       "<style scoped>\n",
       "    .dataframe tbody tr th:only-of-type {\n",
       "        vertical-align: middle;\n",
       "    }\n",
       "\n",
       "    .dataframe tbody tr th {\n",
       "        vertical-align: top;\n",
       "    }\n",
       "\n",
       "    .dataframe thead th {\n",
       "        text-align: right;\n",
       "    }\n",
       "</style>\n",
       "<table border=\"1\" class=\"dataframe\">\n",
       "  <thead>\n",
       "    <tr style=\"text-align: right;\">\n",
       "      <th></th>\n",
       "      <th>id</th>\n",
       "      <th>name</th>\n",
       "      <th>album</th>\n",
       "      <th>album_id</th>\n",
       "      <th>artists</th>\n",
       "      <th>artist_ids</th>\n",
       "      <th>track_number</th>\n",
       "      <th>disc_number</th>\n",
       "      <th>explicit</th>\n",
       "      <th>danceability</th>\n",
       "      <th>...</th>\n",
       "      <th>speechiness</th>\n",
       "      <th>acousticness</th>\n",
       "      <th>instrumentalness</th>\n",
       "      <th>liveness</th>\n",
       "      <th>valence</th>\n",
       "      <th>tempo</th>\n",
       "      <th>duration_ms</th>\n",
       "      <th>time_signature</th>\n",
       "      <th>year</th>\n",
       "      <th>release_date</th>\n",
       "    </tr>\n",
       "  </thead>\n",
       "  <tbody>\n",
       "    <tr>\n",
       "      <th>0</th>\n",
       "      <td>7lmeHLHBe4nmXzuXc0HDjk</td>\n",
       "      <td>Testify</td>\n",
       "      <td>The Battle Of Los Angeles</td>\n",
       "      <td>2eia0myWFgoHuttJytCxgX</td>\n",
       "      <td>['Rage Against The Machine']</td>\n",
       "      <td>['2d0hyoQ5ynDBnkvAbJKORj']</td>\n",
       "      <td>1</td>\n",
       "      <td>1</td>\n",
       "      <td>False</td>\n",
       "      <td>0.470</td>\n",
       "      <td>...</td>\n",
       "      <td>0.0727</td>\n",
       "      <td>0.02610</td>\n",
       "      <td>0.000011</td>\n",
       "      <td>0.3560</td>\n",
       "      <td>0.503</td>\n",
       "      <td>117.906</td>\n",
       "      <td>210133</td>\n",
       "      <td>4.0</td>\n",
       "      <td>1999</td>\n",
       "      <td>1999-11-02</td>\n",
       "    </tr>\n",
       "    <tr>\n",
       "      <th>1</th>\n",
       "      <td>1wsRitfRRtWyEapl0q22o8</td>\n",
       "      <td>Guerrilla Radio</td>\n",
       "      <td>The Battle Of Los Angeles</td>\n",
       "      <td>2eia0myWFgoHuttJytCxgX</td>\n",
       "      <td>['Rage Against The Machine']</td>\n",
       "      <td>['2d0hyoQ5ynDBnkvAbJKORj']</td>\n",
       "      <td>2</td>\n",
       "      <td>1</td>\n",
       "      <td>True</td>\n",
       "      <td>0.599</td>\n",
       "      <td>...</td>\n",
       "      <td>0.1880</td>\n",
       "      <td>0.01290</td>\n",
       "      <td>0.000071</td>\n",
       "      <td>0.1550</td>\n",
       "      <td>0.489</td>\n",
       "      <td>103.680</td>\n",
       "      <td>206200</td>\n",
       "      <td>4.0</td>\n",
       "      <td>1999</td>\n",
       "      <td>1999-11-02</td>\n",
       "    </tr>\n",
       "    <tr>\n",
       "      <th>2</th>\n",
       "      <td>1hR0fIFK2qRG3f3RF70pb7</td>\n",
       "      <td>Calm Like a Bomb</td>\n",
       "      <td>The Battle Of Los Angeles</td>\n",
       "      <td>2eia0myWFgoHuttJytCxgX</td>\n",
       "      <td>['Rage Against The Machine']</td>\n",
       "      <td>['2d0hyoQ5ynDBnkvAbJKORj']</td>\n",
       "      <td>3</td>\n",
       "      <td>1</td>\n",
       "      <td>False</td>\n",
       "      <td>0.315</td>\n",
       "      <td>...</td>\n",
       "      <td>0.4830</td>\n",
       "      <td>0.02340</td>\n",
       "      <td>0.000002</td>\n",
       "      <td>0.1220</td>\n",
       "      <td>0.370</td>\n",
       "      <td>149.749</td>\n",
       "      <td>298893</td>\n",
       "      <td>4.0</td>\n",
       "      <td>1999</td>\n",
       "      <td>1999-11-02</td>\n",
       "    </tr>\n",
       "    <tr>\n",
       "      <th>3</th>\n",
       "      <td>2lbASgTSoDO7MTuLAXlTW0</td>\n",
       "      <td>Mic Check</td>\n",
       "      <td>The Battle Of Los Angeles</td>\n",
       "      <td>2eia0myWFgoHuttJytCxgX</td>\n",
       "      <td>['Rage Against The Machine']</td>\n",
       "      <td>['2d0hyoQ5ynDBnkvAbJKORj']</td>\n",
       "      <td>4</td>\n",
       "      <td>1</td>\n",
       "      <td>True</td>\n",
       "      <td>0.440</td>\n",
       "      <td>...</td>\n",
       "      <td>0.2370</td>\n",
       "      <td>0.16300</td>\n",
       "      <td>0.000004</td>\n",
       "      <td>0.1210</td>\n",
       "      <td>0.574</td>\n",
       "      <td>96.752</td>\n",
       "      <td>213640</td>\n",
       "      <td>4.0</td>\n",
       "      <td>1999</td>\n",
       "      <td>1999-11-02</td>\n",
       "    </tr>\n",
       "    <tr>\n",
       "      <th>4</th>\n",
       "      <td>1MQTmpYOZ6fcMQc56Hdo7T</td>\n",
       "      <td>Sleep Now In the Fire</td>\n",
       "      <td>The Battle Of Los Angeles</td>\n",
       "      <td>2eia0myWFgoHuttJytCxgX</td>\n",
       "      <td>['Rage Against The Machine']</td>\n",
       "      <td>['2d0hyoQ5ynDBnkvAbJKORj']</td>\n",
       "      <td>5</td>\n",
       "      <td>1</td>\n",
       "      <td>False</td>\n",
       "      <td>0.426</td>\n",
       "      <td>...</td>\n",
       "      <td>0.0701</td>\n",
       "      <td>0.00162</td>\n",
       "      <td>0.105000</td>\n",
       "      <td>0.0789</td>\n",
       "      <td>0.539</td>\n",
       "      <td>127.059</td>\n",
       "      <td>205600</td>\n",
       "      <td>4.0</td>\n",
       "      <td>1999</td>\n",
       "      <td>1999-11-02</td>\n",
       "    </tr>\n",
       "    <tr>\n",
       "      <th>...</th>\n",
       "      <td>...</td>\n",
       "      <td>...</td>\n",
       "      <td>...</td>\n",
       "      <td>...</td>\n",
       "      <td>...</td>\n",
       "      <td>...</td>\n",
       "      <td>...</td>\n",
       "      <td>...</td>\n",
       "      <td>...</td>\n",
       "      <td>...</td>\n",
       "      <td>...</td>\n",
       "      <td>...</td>\n",
       "      <td>...</td>\n",
       "      <td>...</td>\n",
       "      <td>...</td>\n",
       "      <td>...</td>\n",
       "      <td>...</td>\n",
       "      <td>...</td>\n",
       "      <td>...</td>\n",
       "      <td>...</td>\n",
       "      <td>...</td>\n",
       "    </tr>\n",
       "    <tr>\n",
       "      <th>1204020</th>\n",
       "      <td>0EsMifwUmMfJZxzoMPXJKZ</td>\n",
       "      <td>Gospel of Juke</td>\n",
       "      <td>Notch - EP</td>\n",
       "      <td>38O5Ys0W9PFS5K7dMb7yKb</td>\n",
       "      <td>['FVLCRVM']</td>\n",
       "      <td>['7AjItKsRnEYRSiBt2OxK1y']</td>\n",
       "      <td>2</td>\n",
       "      <td>1</td>\n",
       "      <td>False</td>\n",
       "      <td>0.264</td>\n",
       "      <td>...</td>\n",
       "      <td>0.0672</td>\n",
       "      <td>0.00935</td>\n",
       "      <td>0.002240</td>\n",
       "      <td>0.3370</td>\n",
       "      <td>0.415</td>\n",
       "      <td>159.586</td>\n",
       "      <td>276213</td>\n",
       "      <td>4.0</td>\n",
       "      <td>2014</td>\n",
       "      <td>2014-01-09</td>\n",
       "    </tr>\n",
       "    <tr>\n",
       "      <th>1204021</th>\n",
       "      <td>2WSc2TB1CSJgGE0PEzVeiu</td>\n",
       "      <td>Prism Visions</td>\n",
       "      <td>Notch - EP</td>\n",
       "      <td>38O5Ys0W9PFS5K7dMb7yKb</td>\n",
       "      <td>['FVLCRVM']</td>\n",
       "      <td>['7AjItKsRnEYRSiBt2OxK1y']</td>\n",
       "      <td>3</td>\n",
       "      <td>1</td>\n",
       "      <td>False</td>\n",
       "      <td>0.796</td>\n",
       "      <td>...</td>\n",
       "      <td>0.0883</td>\n",
       "      <td>0.10400</td>\n",
       "      <td>0.644000</td>\n",
       "      <td>0.0749</td>\n",
       "      <td>0.781</td>\n",
       "      <td>121.980</td>\n",
       "      <td>363179</td>\n",
       "      <td>4.0</td>\n",
       "      <td>2014</td>\n",
       "      <td>2014-01-09</td>\n",
       "    </tr>\n",
       "    <tr>\n",
       "      <th>1204022</th>\n",
       "      <td>6iProIgUe3ETpO6UT0v5Hg</td>\n",
       "      <td>Tokyo 360</td>\n",
       "      <td>Notch - EP</td>\n",
       "      <td>38O5Ys0W9PFS5K7dMb7yKb</td>\n",
       "      <td>['FVLCRVM']</td>\n",
       "      <td>['7AjItKsRnEYRSiBt2OxK1y']</td>\n",
       "      <td>4</td>\n",
       "      <td>1</td>\n",
       "      <td>False</td>\n",
       "      <td>0.785</td>\n",
       "      <td>...</td>\n",
       "      <td>0.0564</td>\n",
       "      <td>0.03040</td>\n",
       "      <td>0.918000</td>\n",
       "      <td>0.0664</td>\n",
       "      <td>0.467</td>\n",
       "      <td>121.996</td>\n",
       "      <td>385335</td>\n",
       "      <td>4.0</td>\n",
       "      <td>2014</td>\n",
       "      <td>2014-01-09</td>\n",
       "    </tr>\n",
       "    <tr>\n",
       "      <th>1204023</th>\n",
       "      <td>37B4SXC8uoBsUyKCWnhPfX</td>\n",
       "      <td>Yummy!</td>\n",
       "      <td>Notch - EP</td>\n",
       "      <td>38O5Ys0W9PFS5K7dMb7yKb</td>\n",
       "      <td>['FVLCRVM']</td>\n",
       "      <td>['7AjItKsRnEYRSiBt2OxK1y']</td>\n",
       "      <td>5</td>\n",
       "      <td>1</td>\n",
       "      <td>False</td>\n",
       "      <td>0.665</td>\n",
       "      <td>...</td>\n",
       "      <td>0.0409</td>\n",
       "      <td>0.00007</td>\n",
       "      <td>0.776000</td>\n",
       "      <td>0.1170</td>\n",
       "      <td>0.227</td>\n",
       "      <td>124.986</td>\n",
       "      <td>324455</td>\n",
       "      <td>4.0</td>\n",
       "      <td>2014</td>\n",
       "      <td>2014-01-09</td>\n",
       "    </tr>\n",
       "    <tr>\n",
       "      <th>1204024</th>\n",
       "      <td>3GgQmOxxLyRoAb4j86zOBX</td>\n",
       "      <td>That's The Way It Is</td>\n",
       "      <td>Notch - EP</td>\n",
       "      <td>38O5Ys0W9PFS5K7dMb7yKb</td>\n",
       "      <td>['FVLCRVM']</td>\n",
       "      <td>['7AjItKsRnEYRSiBt2OxK1y']</td>\n",
       "      <td>6</td>\n",
       "      <td>1</td>\n",
       "      <td>False</td>\n",
       "      <td>0.736</td>\n",
       "      <td>...</td>\n",
       "      <td>0.0539</td>\n",
       "      <td>0.01680</td>\n",
       "      <td>0.296000</td>\n",
       "      <td>0.2790</td>\n",
       "      <td>0.204</td>\n",
       "      <td>117.991</td>\n",
       "      <td>304982</td>\n",
       "      <td>4.0</td>\n",
       "      <td>2014</td>\n",
       "      <td>2014-01-09</td>\n",
       "    </tr>\n",
       "  </tbody>\n",
       "</table>\n",
       "<p>1204025 rows × 24 columns</p>\n",
       "</div>"
      ],
      "text/plain": [
       "                             id                   name  \\\n",
       "0        7lmeHLHBe4nmXzuXc0HDjk                Testify   \n",
       "1        1wsRitfRRtWyEapl0q22o8        Guerrilla Radio   \n",
       "2        1hR0fIFK2qRG3f3RF70pb7       Calm Like a Bomb   \n",
       "3        2lbASgTSoDO7MTuLAXlTW0              Mic Check   \n",
       "4        1MQTmpYOZ6fcMQc56Hdo7T  Sleep Now In the Fire   \n",
       "...                         ...                    ...   \n",
       "1204020  0EsMifwUmMfJZxzoMPXJKZ         Gospel of Juke   \n",
       "1204021  2WSc2TB1CSJgGE0PEzVeiu          Prism Visions   \n",
       "1204022  6iProIgUe3ETpO6UT0v5Hg              Tokyo 360   \n",
       "1204023  37B4SXC8uoBsUyKCWnhPfX                 Yummy!   \n",
       "1204024  3GgQmOxxLyRoAb4j86zOBX   That's The Way It Is   \n",
       "\n",
       "                             album                album_id  \\\n",
       "0        The Battle Of Los Angeles  2eia0myWFgoHuttJytCxgX   \n",
       "1        The Battle Of Los Angeles  2eia0myWFgoHuttJytCxgX   \n",
       "2        The Battle Of Los Angeles  2eia0myWFgoHuttJytCxgX   \n",
       "3        The Battle Of Los Angeles  2eia0myWFgoHuttJytCxgX   \n",
       "4        The Battle Of Los Angeles  2eia0myWFgoHuttJytCxgX   \n",
       "...                            ...                     ...   \n",
       "1204020                 Notch - EP  38O5Ys0W9PFS5K7dMb7yKb   \n",
       "1204021                 Notch - EP  38O5Ys0W9PFS5K7dMb7yKb   \n",
       "1204022                 Notch - EP  38O5Ys0W9PFS5K7dMb7yKb   \n",
       "1204023                 Notch - EP  38O5Ys0W9PFS5K7dMb7yKb   \n",
       "1204024                 Notch - EP  38O5Ys0W9PFS5K7dMb7yKb   \n",
       "\n",
       "                              artists                  artist_ids  \\\n",
       "0        ['Rage Against The Machine']  ['2d0hyoQ5ynDBnkvAbJKORj']   \n",
       "1        ['Rage Against The Machine']  ['2d0hyoQ5ynDBnkvAbJKORj']   \n",
       "2        ['Rage Against The Machine']  ['2d0hyoQ5ynDBnkvAbJKORj']   \n",
       "3        ['Rage Against The Machine']  ['2d0hyoQ5ynDBnkvAbJKORj']   \n",
       "4        ['Rage Against The Machine']  ['2d0hyoQ5ynDBnkvAbJKORj']   \n",
       "...                               ...                         ...   \n",
       "1204020                   ['FVLCRVM']  ['7AjItKsRnEYRSiBt2OxK1y']   \n",
       "1204021                   ['FVLCRVM']  ['7AjItKsRnEYRSiBt2OxK1y']   \n",
       "1204022                   ['FVLCRVM']  ['7AjItKsRnEYRSiBt2OxK1y']   \n",
       "1204023                   ['FVLCRVM']  ['7AjItKsRnEYRSiBt2OxK1y']   \n",
       "1204024                   ['FVLCRVM']  ['7AjItKsRnEYRSiBt2OxK1y']   \n",
       "\n",
       "         track_number  disc_number  explicit  danceability  ...  speechiness  \\\n",
       "0                   1            1     False         0.470  ...       0.0727   \n",
       "1                   2            1      True         0.599  ...       0.1880   \n",
       "2                   3            1     False         0.315  ...       0.4830   \n",
       "3                   4            1      True         0.440  ...       0.2370   \n",
       "4                   5            1     False         0.426  ...       0.0701   \n",
       "...               ...          ...       ...           ...  ...          ...   \n",
       "1204020             2            1     False         0.264  ...       0.0672   \n",
       "1204021             3            1     False         0.796  ...       0.0883   \n",
       "1204022             4            1     False         0.785  ...       0.0564   \n",
       "1204023             5            1     False         0.665  ...       0.0409   \n",
       "1204024             6            1     False         0.736  ...       0.0539   \n",
       "\n",
       "         acousticness  instrumentalness  liveness  valence    tempo  \\\n",
       "0             0.02610          0.000011    0.3560    0.503  117.906   \n",
       "1             0.01290          0.000071    0.1550    0.489  103.680   \n",
       "2             0.02340          0.000002    0.1220    0.370  149.749   \n",
       "3             0.16300          0.000004    0.1210    0.574   96.752   \n",
       "4             0.00162          0.105000    0.0789    0.539  127.059   \n",
       "...               ...               ...       ...      ...      ...   \n",
       "1204020       0.00935          0.002240    0.3370    0.415  159.586   \n",
       "1204021       0.10400          0.644000    0.0749    0.781  121.980   \n",
       "1204022       0.03040          0.918000    0.0664    0.467  121.996   \n",
       "1204023       0.00007          0.776000    0.1170    0.227  124.986   \n",
       "1204024       0.01680          0.296000    0.2790    0.204  117.991   \n",
       "\n",
       "         duration_ms  time_signature  year  release_date  \n",
       "0             210133             4.0  1999    1999-11-02  \n",
       "1             206200             4.0  1999    1999-11-02  \n",
       "2             298893             4.0  1999    1999-11-02  \n",
       "3             213640             4.0  1999    1999-11-02  \n",
       "4             205600             4.0  1999    1999-11-02  \n",
       "...              ...             ...   ...           ...  \n",
       "1204020       276213             4.0  2014    2014-01-09  \n",
       "1204021       363179             4.0  2014    2014-01-09  \n",
       "1204022       385335             4.0  2014    2014-01-09  \n",
       "1204023       324455             4.0  2014    2014-01-09  \n",
       "1204024       304982             4.0  2014    2014-01-09  \n",
       "\n",
       "[1204025 rows x 24 columns]"
      ]
     },
     "execution_count": 10,
     "metadata": {},
     "output_type": "execute_result"
    }
   ],
   "source": [
    "spotify_df"
   ]
  },
  {
   "cell_type": "code",
   "execution_count": 13,
   "metadata": {
    "ExecuteTime": {
     "end_time": "2022-05-16T20:05:54.532392Z",
     "start_time": "2022-05-16T20:05:54.065611Z"
    }
   },
   "outputs": [
    {
     "name": "stdout",
     "output_type": "stream",
     "text": [
      "<class 'pandas.core.frame.DataFrame'>\n",
      "RangeIndex: 1204025 entries, 0 to 1204024\n",
      "Data columns (total 24 columns):\n",
      " #   Column            Non-Null Count    Dtype  \n",
      "---  ------            --------------    -----  \n",
      " 0   id                1204025 non-null  object \n",
      " 1   name              1204025 non-null  object \n",
      " 2   album             1204025 non-null  object \n",
      " 3   album_id          1204025 non-null  object \n",
      " 4   artists           1204025 non-null  object \n",
      " 5   artist_ids        1204025 non-null  object \n",
      " 6   track_number      1204025 non-null  int64  \n",
      " 7   disc_number       1204025 non-null  int64  \n",
      " 8   explicit          1204025 non-null  bool   \n",
      " 9   danceability      1204025 non-null  float64\n",
      " 10  energy            1204025 non-null  float64\n",
      " 11  key               1204025 non-null  int64  \n",
      " 12  loudness          1204025 non-null  float64\n",
      " 13  mode              1204025 non-null  int64  \n",
      " 14  speechiness       1204025 non-null  float64\n",
      " 15  acousticness      1204025 non-null  float64\n",
      " 16  instrumentalness  1204025 non-null  float64\n",
      " 17  liveness          1204025 non-null  float64\n",
      " 18  valence           1204025 non-null  float64\n",
      " 19  tempo             1204025 non-null  float64\n",
      " 20  duration_ms       1204025 non-null  int64  \n",
      " 21  time_signature    1204025 non-null  float64\n",
      " 22  year              1204025 non-null  int64  \n",
      " 23  release_date      1204025 non-null  object \n",
      "dtypes: bool(1), float64(10), int64(6), object(7)\n",
      "memory usage: 212.4+ MB\n"
     ]
    }
   ],
   "source": [
    "# Take a look at all the features \n",
    "spotify_df.info()"
   ]
  },
  {
   "cell_type": "code",
   "execution_count": 14,
   "metadata": {
    "ExecuteTime": {
     "end_time": "2022-05-16T20:17:47.947050Z",
     "start_time": "2022-05-16T20:17:47.879252Z"
    },
    "scrolled": true
   },
   "outputs": [
    {
     "data": {
      "text/plain": [
       "0.947000    1562\n",
       "0.941000    1504\n",
       "0.932000    1502\n",
       "0.931000    1497\n",
       "0.940000    1496\n",
       "            ... \n",
       "0.000058       1\n",
       "0.000361       1\n",
       "0.000379       1\n",
       "0.000592       1\n",
       "0.000226       1\n",
       "Name: energy, Length: 3441, dtype: int64"
      ]
     },
     "execution_count": 14,
     "metadata": {},
     "output_type": "execute_result"
    }
   ],
   "source": [
    "# Take a quick look at the energy column\n",
    "spotify_df['energy'].value_counts()"
   ]
  },
  {
   "cell_type": "markdown",
   "metadata": {},
   "source": [
    "**energy number**\n",
    "\n",
    "Energy is a measure from 0.0 to 1.0 and represents a perceptual measure of intensity and activity. Typically, energetic tracks feel fast, loud, and noisy. For example, death metal has high energy, while a Bach prelude scores low on the scale. Perceptual features contributing to this attribute include dynamic range, perceived loudness, timbre, onset rate, and general entropy."
   ]
  },
  {
   "cell_type": "code",
   "execution_count": 15,
   "metadata": {
    "ExecuteTime": {
     "end_time": "2022-05-16T20:22:25.389975Z",
     "start_time": "2022-05-16T20:22:25.333126Z"
    }
   },
   "outputs": [
    {
     "data": {
      "text/plain": [
       "0.0000    2778\n",
       "0.5330    2496\n",
       "0.5290    2490\n",
       "0.5340    2460\n",
       "0.5070    2443\n",
       "          ... \n",
       "0.9940       1\n",
       "0.0507       1\n",
       "0.0546       1\n",
       "0.9930       1\n",
       "0.0549       1\n",
       "Name: danceability, Length: 1362, dtype: int64"
      ]
     },
     "execution_count": 15,
     "metadata": {},
     "output_type": "execute_result"
    }
   ],
   "source": [
    "# Take a look at the danceability column\n",
    "spotify_df['danceability'].value_counts()"
   ]
  },
  {
   "cell_type": "markdown",
   "metadata": {},
   "source": [
    "**danceability number**\n",
    "\n",
    "Danceability describes how suitable a track is for dancing based on a combination of musical elements including tempo, rhythm stability, beat strength, and overall regularity. A value of 0.0 is least danceable and 1.0 is most danceable."
   ]
  },
  {
   "cell_type": "code",
   "execution_count": 11,
   "metadata": {
    "ExecuteTime": {
     "end_time": "2022-05-16T19:56:12.268204Z",
     "start_time": "2022-05-16T19:56:11.990955Z"
    }
   },
   "outputs": [
    {
     "data": {
      "text/plain": [
       "Greatest Hits                           1800\n",
       "Live                                     872\n",
       "The Collection                           343\n",
       "Love Songs                               337\n",
       "Super Hits                               330\n",
       "                                        ... \n",
       "Rock the Boat                              1\n",
       "High Above                                 1\n",
       "George Washington vs William Wallace       1\n",
       "Gyno Beast                                 1\n",
       "Reset - Single                             1\n",
       "Name: album, Length: 106162, dtype: int64"
      ]
     },
     "execution_count": 11,
     "metadata": {},
     "output_type": "execute_result"
    }
   ],
   "source": [
    "# Check the album column value counts\n",
    "spotify_df['album'].value_counts()"
   ]
  },
  {
   "cell_type": "code",
   "execution_count": 12,
   "metadata": {
    "ExecuteTime": {
     "end_time": "2022-05-16T19:57:02.758191Z",
     "start_time": "2022-05-16T19:57:01.203189Z"
    }
   },
   "outputs": [
    {
     "data": {
      "text/plain": [
       "Intro                                                     1420\n",
       "Outro                                                      412\n",
       "Silent Night                                               387\n",
       "Home                                                       385\n",
       "Interlude                                                  307\n",
       "                                                          ... \n",
       "6 Etudes: Leccion No. 15                                     1\n",
       "All I Must Do                                                1\n",
       "Scissor Quiz                                                 1\n",
       "(Everybody Makes) Mistakes                                   1\n",
       "Things to Come (arr. P. Lane): III. March: Alla marcia       1\n",
       "Name: name, Length: 850944, dtype: int64"
      ]
     },
     "execution_count": 12,
     "metadata": {},
     "output_type": "execute_result"
    }
   ],
   "source": [
    "# Check the name column value counts\n",
    "spotify_df['name'].value_counts()"
   ]
  },
  {
   "cell_type": "code",
   "execution_count": null,
   "metadata": {},
   "outputs": [],
   "source": []
  }
 ],
 "metadata": {
  "kernelspec": {
   "display_name": "Python (learn-env)",
   "language": "python",
   "name": "learn-env"
  },
  "language_info": {
   "codemirror_mode": {
    "name": "ipython",
    "version": 3
   },
   "file_extension": ".py",
   "mimetype": "text/x-python",
   "name": "python",
   "nbconvert_exporter": "python",
   "pygments_lexer": "ipython3",
   "version": "3.8.5"
  },
  "toc": {
   "base_numbering": 1,
   "nav_menu": {},
   "number_sections": true,
   "sideBar": true,
   "skip_h1_title": false,
   "title_cell": "Table of Contents",
   "title_sidebar": "Contents",
   "toc_cell": false,
   "toc_position": {},
   "toc_section_display": true,
   "toc_window_display": false
  },
  "varInspector": {
   "cols": {
    "lenName": 16,
    "lenType": 16,
    "lenVar": 40
   },
   "kernels_config": {
    "python": {
     "delete_cmd_postfix": "",
     "delete_cmd_prefix": "del ",
     "library": "var_list.py",
     "varRefreshCmd": "print(var_dic_list())"
    },
    "r": {
     "delete_cmd_postfix": ") ",
     "delete_cmd_prefix": "rm(",
     "library": "var_list.r",
     "varRefreshCmd": "cat(var_dic_list()) "
    }
   },
   "types_to_exclude": [
    "module",
    "function",
    "builtin_function_or_method",
    "instance",
    "_Feature"
   ],
   "window_display": false
  }
 },
 "nbformat": 4,
 "nbformat_minor": 4
}
